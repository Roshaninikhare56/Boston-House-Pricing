{
  "nbformat": 4,
  "nbformat_minor": 0,
  "metadata": {
    "colab": {
      "provenance": [],
      "authorship_tag": "ABX9TyOUxvNJWu8wjMUmBf6RfjW8",
      "include_colab_link": true
    },
    "kernelspec": {
      "name": "python3",
      "display_name": "Python 3"
    },
    "language_info": {
      "name": "python"
    }
  },
  "cells": [
    {
      "cell_type": "markdown",
      "metadata": {
        "id": "view-in-github",
        "colab_type": "text"
      },
      "source": [
        "<a href=\"https://colab.research.google.com/github/Roshaninikhare56/Boston-House-Pricing/blob/main/Naive_bayes_multinomial_NLP.ipynb\" target=\"_parent\"><img src=\"https://colab.research.google.com/assets/colab-badge.svg\" alt=\"Open In Colab\"/></a>"
      ]
    },
    {
      "cell_type": "code",
      "execution_count": 1,
      "metadata": {
        "id": "aA3H0rXzfv96"
      },
      "outputs": [],
      "source": [
        "from sklearn.datasets import fetch_20newsgroups\n",
        "\n",
        "news = fetch_20newsgroups()"
      ]
    },
    {
      "cell_type": "code",
      "source": [
        "news.keys()"
      ],
      "metadata": {
        "colab": {
          "base_uri": "https://localhost:8080/"
        },
        "id": "rWF9TfjIgB6k",
        "outputId": "549998af-260f-418a-916c-4b776bc45df5"
      },
      "execution_count": 2,
      "outputs": [
        {
          "output_type": "execute_result",
          "data": {
            "text/plain": [
              "dict_keys(['data', 'filenames', 'target_names', 'target', 'DESCR'])"
            ]
          },
          "metadata": {},
          "execution_count": 2
        }
      ]
    },
    {
      "cell_type": "code",
      "source": [
        "news.target"
      ],
      "metadata": {
        "colab": {
          "base_uri": "https://localhost:8080/"
        },
        "id": "Pep1D27YgbBs",
        "outputId": "4980787e-299f-4065-fe93-0632a210463c"
      },
      "execution_count": 3,
      "outputs": [
        {
          "output_type": "execute_result",
          "data": {
            "text/plain": [
              "array([7, 4, 4, ..., 3, 1, 8])"
            ]
          },
          "metadata": {},
          "execution_count": 3
        }
      ]
    },
    {
      "cell_type": "code",
      "source": [
        "news.target_names"
      ],
      "metadata": {
        "colab": {
          "base_uri": "https://localhost:8080/"
        },
        "id": "gRNKuXLpg0-q",
        "outputId": "f30f714e-1436-49b4-8042-36f49d5b022f"
      },
      "execution_count": 4,
      "outputs": [
        {
          "output_type": "execute_result",
          "data": {
            "text/plain": [
              "['alt.atheism',\n",
              " 'comp.graphics',\n",
              " 'comp.os.ms-windows.misc',\n",
              " 'comp.sys.ibm.pc.hardware',\n",
              " 'comp.sys.mac.hardware',\n",
              " 'comp.windows.x',\n",
              " 'misc.forsale',\n",
              " 'rec.autos',\n",
              " 'rec.motorcycles',\n",
              " 'rec.sport.baseball',\n",
              " 'rec.sport.hockey',\n",
              " 'sci.crypt',\n",
              " 'sci.electronics',\n",
              " 'sci.med',\n",
              " 'sci.space',\n",
              " 'soc.religion.christian',\n",
              " 'talk.politics.guns',\n",
              " 'talk.politics.mideast',\n",
              " 'talk.politics.misc',\n",
              " 'talk.religion.misc']"
            ]
          },
          "metadata": {},
          "execution_count": 4
        }
      ]
    },
    {
      "cell_type": "code",
      "source": [
        "cats = ['alt.atheism','soc.religion.christian','comp.graphics','sci.med']\n",
        "\n",
        "news_train = fetch_20newsgroups(subset='train',categories= cats)"
      ],
      "metadata": {
        "id": "4GQ6DPmMg9Ba"
      },
      "execution_count": 5,
      "outputs": []
    },
    {
      "cell_type": "code",
      "source": [
        "news_test = fetch_20newsgroups(subset='test',categories= cats)"
      ],
      "metadata": {
        "id": "9hiREXmQiJc-"
      },
      "execution_count": 6,
      "outputs": []
    },
    {
      "cell_type": "code",
      "source": [
        "print(news_train.keys())"
      ],
      "metadata": {
        "colab": {
          "base_uri": "https://localhost:8080/"
        },
        "id": "Uje53qUdiR3-",
        "outputId": "58f25395-61b3-4d6a-8c50-5a41a5ef150c"
      },
      "execution_count": 7,
      "outputs": [
        {
          "output_type": "stream",
          "name": "stdout",
          "text": [
            "dict_keys(['data', 'filenames', 'target_names', 'target', 'DESCR'])\n"
          ]
        }
      ]
    },
    {
      "cell_type": "code",
      "source": [
        "news_train['target_names']"
      ],
      "metadata": {
        "colab": {
          "base_uri": "https://localhost:8080/"
        },
        "id": "zGE2kUShije9",
        "outputId": "0ca4dd13-1e9c-49d2-d895-c7f3e507e576"
      },
      "execution_count": 8,
      "outputs": [
        {
          "output_type": "execute_result",
          "data": {
            "text/plain": [
              "['alt.atheism', 'comp.graphics', 'sci.med', 'soc.religion.christian']"
            ]
          },
          "metadata": {},
          "execution_count": 8
        }
      ]
    },
    {
      "cell_type": "code",
      "source": [
        "from sklearn.feature_extraction.text import CountVectorizer\n",
        "\n",
        "count_vect = CountVectorizer()"
      ],
      "metadata": {
        "id": "F3gGbO6UivfE"
      },
      "execution_count": 11,
      "outputs": []
    },
    {
      "cell_type": "code",
      "source": [
        "X_train_tf = count_vect.fit_transform(news_train.data)\n",
        "\n",
        "X_train_tf.shape"
      ],
      "metadata": {
        "colab": {
          "base_uri": "https://localhost:8080/"
        },
        "id": "7R8Nzl0QjYCi",
        "outputId": "76495c10-0e49-4ae7-8c42-d8fd48397664"
      },
      "execution_count": 13,
      "outputs": [
        {
          "output_type": "execute_result",
          "data": {
            "text/plain": [
              "(2257, 35788)"
            ]
          },
          "metadata": {},
          "execution_count": 13
        }
      ]
    },
    {
      "cell_type": "code",
      "source": [
        "print(X_train_tf)"
      ],
      "metadata": {
        "colab": {
          "base_uri": "https://localhost:8080/"
        },
        "id": "hFD5SPDckTx3",
        "outputId": "8c6350ab-5c87-4992-9d4d-f1bf0236be11"
      },
      "execution_count": 15,
      "outputs": [
        {
          "output_type": "stream",
          "name": "stdout",
          "text": [
            "  (0, 14887)\t1\n",
            "  (0, 29022)\t1\n",
            "  (0, 8696)\t4\n",
            "  (0, 4017)\t2\n",
            "  (0, 33256)\t2\n",
            "  (0, 21661)\t3\n",
            "  (0, 9031)\t3\n",
            "  (0, 31077)\t1\n",
            "  (0, 9805)\t2\n",
            "  (0, 17366)\t1\n",
            "  (0, 32493)\t4\n",
            "  (0, 16916)\t2\n",
            "  (0, 19780)\t2\n",
            "  (0, 17302)\t2\n",
            "  (0, 23122)\t1\n",
            "  (0, 25663)\t1\n",
            "  (0, 16881)\t1\n",
            "  (0, 16082)\t1\n",
            "  (0, 23915)\t1\n",
            "  (0, 32142)\t5\n",
            "  (0, 33597)\t2\n",
            "  (0, 20253)\t1\n",
            "  (0, 587)\t1\n",
            "  (0, 12051)\t1\n",
            "  (0, 5201)\t1\n",
            "  :\t:\n",
            "  (2256, 13740)\t1\n",
            "  (2256, 14662)\t1\n",
            "  (2256, 20201)\t1\n",
            "  (2256, 12443)\t6\n",
            "  (2256, 30325)\t3\n",
            "  (2256, 4610)\t1\n",
            "  (2256, 33844)\t1\n",
            "  (2256, 17354)\t1\n",
            "  (2256, 26998)\t1\n",
            "  (2256, 20277)\t1\n",
            "  (2256, 20695)\t1\n",
            "  (2256, 20702)\t1\n",
            "  (2256, 9649)\t1\n",
            "  (2256, 9086)\t1\n",
            "  (2256, 26254)\t1\n",
            "  (2256, 17133)\t2\n",
            "  (2256, 4490)\t1\n",
            "  (2256, 13720)\t1\n",
            "  (2256, 5016)\t1\n",
            "  (2256, 9632)\t1\n",
            "  (2256, 11824)\t1\n",
            "  (2256, 29993)\t1\n",
            "  (2256, 1298)\t1\n",
            "  (2256, 2375)\t1\n",
            "  (2256, 3921)\t1\n"
          ]
        }
      ]
    },
    {
      "cell_type": "code",
      "source": [
        "# TFID Transformer : weight the word of the classifier, if any words get repeated multiple times in any text then find out how much is the contribution of the\n",
        "# in the classification.\n",
        "\n",
        "from sklearn.feature_extraction.text import TfidfTransformer\n",
        "\n",
        "tfidf_trans = TfidfTransformer()\n",
        "\n",
        "X_train_tfidf = tfidf_trans.fit_transform(X_train_tf)\n",
        "\n",
        "X_train_tfidf.shape"
      ],
      "metadata": {
        "colab": {
          "base_uri": "https://localhost:8080/"
        },
        "id": "OE9cmSFlklJm",
        "outputId": "8bec79e9-afc7-40b8-cdda-62197c0ceb85"
      },
      "execution_count": 16,
      "outputs": [
        {
          "output_type": "execute_result",
          "data": {
            "text/plain": [
              "(2257, 35788)"
            ]
          },
          "metadata": {},
          "execution_count": 16
        }
      ]
    },
    {
      "cell_type": "code",
      "source": [
        "from sklearn.naive_bayes import MultinomialNB\n",
        "\n",
        "clf = MultinomialNB().fit(X_train_tfidf, news_train.target)"
      ],
      "metadata": {
        "id": "JqryX8Atul29"
      },
      "execution_count": 18,
      "outputs": []
    },
    {
      "cell_type": "code",
      "source": [
        "X_test_tf = count_vect.transform(news_test.data)\n",
        "\n"
      ],
      "metadata": {
        "id": "iWQzl92QvMM1"
      },
      "execution_count": 21,
      "outputs": []
    },
    {
      "cell_type": "code",
      "source": [
        "X_test_tfidf = tfidf_trans.transform(X_test_tf)\n",
        "predicted = clf.predict(X_test_tfidf)\n",
        "predicted"
      ],
      "metadata": {
        "colab": {
          "base_uri": "https://localhost:8080/"
        },
        "id": "XT1YNfokwGVD",
        "outputId": "767683ee-4002-4771-bfd5-3a324caffb26"
      },
      "execution_count": 22,
      "outputs": [
        {
          "output_type": "execute_result",
          "data": {
            "text/plain": [
              "array([2, 2, 3, ..., 2, 2, 1])"
            ]
          },
          "metadata": {},
          "execution_count": 22
        }
      ]
    },
    {
      "cell_type": "code",
      "source": [
        "from sklearn import metrics\n",
        "\n",
        "from sklearn.metrics import accuracy_score\n",
        "\n",
        "print(\"Accuracy\",accuracy_score(news_test.target,predicted))\n",
        "\n",
        "print(metrics.confusion_matrix(news_test.target,predicted))"
      ],
      "metadata": {
        "colab": {
          "base_uri": "https://localhost:8080/"
        },
        "id": "Z4RvdObQwxOR",
        "outputId": "c5b1956a-a5ec-435c-d1fc-028ee8e26fcb"
      },
      "execution_count": 25,
      "outputs": [
        {
          "output_type": "stream",
          "name": "stdout",
          "text": [
            "Accuracy 0.8348868175765646\n",
            "[[192   2   6 119]\n",
            " [  2 347   4  36]\n",
            " [  2  11 322  61]\n",
            " [  2   2   1 393]]\n"
          ]
        }
      ]
    },
    {
      "cell_type": "code",
      "source": [],
      "metadata": {
        "id": "ZoKlc3dZxbsP"
      },
      "execution_count": null,
      "outputs": []
    }
  ]
}